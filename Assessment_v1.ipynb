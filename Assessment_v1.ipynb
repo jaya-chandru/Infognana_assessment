{
  "nbformat": 4,
  "nbformat_minor": 0,
  "metadata": {
    "colab": {
      "name": "Assessment_v1.ipynb",
      "provenance": [],
      "collapsed_sections": []
    },
    "kernelspec": {
      "name": "python3",
      "display_name": "Python 3"
    },
    "language_info": {
      "name": "python"
    }
  },
  "cells": [
    {
      "cell_type": "code",
      "metadata": {
        "id": "cgZs0ojj7eUV"
      },
      "source": [
        "#Installing necessary packages\n",
        "!sudo apt install tesseract-ocr\n",
        "!pip install pytesseract\n",
        "!pip install pdf2image\n",
        "!apt-get install poppler-utils "
      ],
      "execution_count": null,
      "outputs": []
    },
    {
      "cell_type": "code",
      "metadata": {
        "id": "Cr2HPLqx8Ggd"
      },
      "source": [
        "import pytesseract as py\n",
        "import shutil\n",
        "import os\n",
        "try:\n",
        "    from PIL import Image, ImageOps\n",
        "except ImportError:\n",
        "    import Image"
      ],
      "execution_count": 149,
      "outputs": []
    },
    {
      "cell_type": "markdown",
      "metadata": {
        "id": "5vllc4AH11GS"
      },
      "source": [
        "\n",
        "# Converting PDF to Image to pass through Tesseract"
      ]
    },
    {
      "cell_type": "code",
      "metadata": {
        "id": "MSXjccWxV5A_"
      },
      "source": [
        "\n",
        "from pdf2image import convert_from_path\n",
        "from pytesseract import *\n",
        "pages = convert_from_path('Doc2.pdf', 500)\n",
        "#pages = convert_from_path('Doc1.pdf', 500)\n",
        "for page in pages:\n",
        "    page.save('out.png', 'PNG')\n"
      ],
      "execution_count": 175,
      "outputs": []
    },
    {
      "cell_type": "markdown",
      "metadata": {
        "id": "_s6-5K302JUr"
      },
      "source": [
        "# Basic preprocessing of the image to improve the text quality"
      ]
    },
    {
      "cell_type": "code",
      "metadata": {
        "colab": {
          "base_uri": "https://localhost:8080/"
        },
        "id": "DzIMCMqNidY3",
        "outputId": "c4a806df-e19f-4dc5-eaa4-8c8637a81261"
      },
      "source": [
        "#preprocessing\n",
        "import numpy as np \n",
        "import cv2\n",
        "# load image\n",
        "image = cv2.imread('out.png')\n",
        "# create grayscale\n",
        "gray_image = cv2.cvtColor(image, cv2.COLOR_BGR2GRAY)\n",
        "# perform threshold\n",
        "retr, mask = cv2.threshold(gray_image, 120, 255, cv2.THRESH_BINARY + cv2.THRESH_OTSU)   \n",
        "\n",
        "# remove noise / close gaps\n",
        "kernel =  np.ones((2,2),np.uint8)\n",
        "result = cv2.morphologyEx(mask, cv2.MORPH_CLOSE, kernel)\n",
        "\n",
        "#Save image\n",
        "cv2.imwrite(\"Result.png\", result)\n"
      ],
      "execution_count": 176,
      "outputs": [
        {
          "output_type": "execute_result",
          "data": {
            "text/plain": [
              "True"
            ]
          },
          "metadata": {},
          "execution_count": 176
        }
      ]
    },
    {
      "cell_type": "code",
      "metadata": {
        "id": "cUwZIPpN9orM"
      },
      "source": [
        "#Getting the contents of the file as a string\n",
        "text =  image_to_string(image) \n",
        "result = text.split(\"\\n\")"
      ],
      "execution_count": null,
      "outputs": []
    },
    {
      "cell_type": "markdown",
      "metadata": {
        "id": "EGB3wYXi2Q8y"
      },
      "source": [
        "# Extracting Total Invoice Value and Total VAT\n",
        "Since these values are  often present outside the table structure, it is convenient to extract contents from the image as a string and then parse through it\n"
      ]
    },
    {
      "cell_type": "code",
      "metadata": {
        "colab": {
          "base_uri": "https://localhost:8080/"
        },
        "id": "N0cYZj7VnGMQ",
        "outputId": "984cb5e7-dfb9-4d0d-ee14-630e95929762"
      },
      "source": [
        "#Extracting Total amount - assumption made - the largest numerical value(floating point number) in the text would be the total amount\n",
        "import re\n",
        "#removing spaces if any between the numbers\n",
        "strip_spaces=re.sub(r'(?<=\\d)\\s+','', text)\n",
        "#adding spaces if numbers are attached to strings to avoid missing any numbers\n",
        "strip_char=re.sub(\"[A-Za-z]+\", lambda ele: \" \" + ele[0] + \" \", strip_spaces)\n",
        "\n",
        "remove_cmma=strip_char.replace(\",\",\"\")\n",
        "\n",
        "all_no = (re.findall(\"\\d+\\.\\d+\", remove_cmma))\n",
        "#print(all_no)\n",
        "\n",
        "\n",
        "sorted_num = sorted(all_no, key = lambda x:float(x))\n",
        "#print(sorted_num)\n",
        "\n",
        "total_inv_amt = sorted_num[-1]\n",
        "print(total_inv_amt)\n",
        "\n",
        "\n"
      ],
      "execution_count": 177,
      "outputs": [
        {
          "output_type": "stream",
          "name": "stdout",
          "text": [
            "1038.79\n",
            "180.29\n"
          ]
        }
      ]
    },
    {
      "cell_type": "code",
      "metadata": {
        "id": "gHCbUmvD2jbT"
      },
      "source": [
        "#Extracting total VAT - assumption made - the 2nd largest amount in the document is the total amount excluding VAT, hence the difference between the 2 will give the total VAT amount\n",
        "total_vat=round(float(sorted_num[-1])-float(sorted_num[-2]),2)\n",
        "print(total_vat)"
      ],
      "execution_count": null,
      "outputs": []
    },
    {
      "cell_type": "markdown",
      "metadata": {
        "id": "QiLxRFru_V6Z"
      },
      "source": [
        "# Extracting Quantity and VAT for each line item\n",
        "Since these values are often present inside a table structure, we try to identify the table first and then extract values from it"
      ]
    },
    {
      "cell_type": "code",
      "metadata": {
        "id": "LCKUaqocfvz9"
      },
      "source": [
        "df = py.image_to_data(Image.open(r'Result.png'), config=\"-c textord_tabfind_find_tables=0 \", output_type='data.frame')\n"
      ],
      "execution_count": 233,
      "outputs": []
    },
    {
      "cell_type": "code",
      "metadata": {
        "id": "4PXixasA5Y22"
      },
      "source": [
        "df"
      ],
      "execution_count": null,
      "outputs": []
    },
    {
      "cell_type": "code",
      "metadata": {
        "id": "Qebb_QMKr7mL"
      },
      "source": [
        "#Finding (x2,y2) for all values\n",
        "df['x2']=df['left']+df['width']\n",
        "df['y2']=df['top']+df['height']\n",
        "\n",
        "#Finding the center point for all values\n",
        "df['x_center']=(df['left']+df['x2'])/2\n",
        "df['y_center']=(df['top']+df['y2'])/2\n",
        "\n",
        "#Finding the difference between the center point of all values and the keyword values\n",
        "qty_keys = ['Quantity','Qty']\n",
        "qty_x_center=df.loc[(df['text'].isin(qty_keys)) , 'x_center'].iloc[0]\n",
        "qty_y_center=df.loc[((df['text'].isin(qty_keys))), 'y_center'].iloc[0]\n",
        "vat_x_center=df.loc[(df['text']=='VAT') , 'x_center'].iloc[0]\n",
        "vat_y_center=df.loc[((df['text']=='VAT')), 'y_center'].iloc[0]\n",
        "\n",
        "#Finding the height of quantity and total keywords as it usually marks the beginning and end of the table. We will be picking up only the values within the table for our analysis\n",
        "total_top=df.loc[df['text'] == 'Total', 'top'].iloc[0]\n",
        "qty_top=df.loc[df['text'].isin(qty_keys), 'top'].iloc[0]"
      ],
      "execution_count": 237,
      "outputs": []
    },
    {
      "cell_type": "code",
      "metadata": {
        "colab": {
          "base_uri": "https://localhost:8080/"
        },
        "id": "-peKvHKpuVO4",
        "outputId": "0e179c77-4469-4175-f6a2-be33e7d97fcc"
      },
      "source": [
        "\n",
        "print(qty_x_center)\n",
        "print(qty_y_center)\n",
        "print(vat_x_center)\n",
        "print(vat_y_center)\n",
        "print(total_top)\n",
        "print(qty_top)\n"
      ],
      "execution_count": 238,
      "outputs": [
        {
          "output_type": "stream",
          "name": "stdout",
          "text": [
            "376.5\n",
            "2192.0\n",
            "3205.5\n",
            "2187.5\n",
            "3819\n",
            "2166\n"
          ]
        }
      ]
    },
    {
      "cell_type": "code",
      "metadata": {
        "id": "hFkfou68tGNp"
      },
      "source": [
        "#Remove rows without text\n",
        "df = df.dropna()\n",
        " \n",
        "# To reset the indices\n",
        "df = df.reset_index(drop = True)\n",
        "\n",
        "\n",
        "#Finding the difference between the center of each word and the center of the keywords\n",
        "df['qty_x_cen_diff']=df['x_center']-qty_x_center\n",
        "df['qty_y_cen_diff']=df['y_center']-qty_y_center\n",
        "df['vat_x_cen_diff']=df['x_center']-vat_x_center\n",
        "df['vat_y_cen_diff']=df['y_center']-vat_y_center\n",
        "\n",
        "#Filter rows that are above the word quantity and below the word top\n",
        "df = df[(df.top >qty_top) & (df.top<total_top)]\n",
        "\n",
        "#Creating 2 different dataframes to store only rows with integer values for quantity and floating point values for vat\n",
        "df_qty=df[(df['text'].str.contains('^\\d+$')) & ((df.top<total_top)) ]\n",
        "df_vat=df[(df['text'].str.contains('\\d+\\.\\d+')) & ((df.top<total_top)) ]"
      ],
      "execution_count": 239,
      "outputs": []
    },
    {
      "cell_type": "code",
      "metadata": {
        "id": "vpwGJKEctqNE"
      },
      "source": [
        "#Finding the values having closest center points to the keywords\n",
        "df_1=(df_qty[df_qty['qty_x_cen_diff'].between(-30, 30)])\n",
        "df_2=(df_vat[df_vat['vat_x_cen_diff'].between(-550, 550)])"
      ],
      "execution_count": 240,
      "outputs": []
    },
    {
      "cell_type": "code",
      "metadata": {
        "colab": {
          "base_uri": "https://localhost:8080/"
        },
        "id": "N3OBt-ZN11HV",
        "outputId": "cca73d3d-d236-47f7-c5d7-c6181a4a1298"
      },
      "source": [
        "\n",
        "quantities = df_1['text'].to_list()\n",
        "quantities"
      ],
      "execution_count": 241,
      "outputs": [
        {
          "output_type": "execute_result",
          "data": {
            "text/plain": [
              "['4', '1']"
            ]
          },
          "metadata": {},
          "execution_count": 241
        }
      ]
    },
    {
      "cell_type": "markdown",
      "metadata": {
        "id": "xlB85CPc_prn"
      },
      "source": [
        "**Comment:** Quantity values from the 2nd document were not captured properly by tesseract. If that can be improved, the above logic will hold good and we will be able to retrieve the quantity values from the document"
      ]
    },
    {
      "cell_type": "code",
      "metadata": {
        "colab": {
          "base_uri": "https://localhost:8080/"
        },
        "id": "11POnebr0nuM",
        "outputId": "a9f1c04f-0c0f-45bb-b74a-42224bb97b65"
      },
      "source": [
        "vat = df_2['text'].to_list()\n",
        "vat"
      ],
      "execution_count": 242,
      "outputs": [
        {
          "output_type": "execute_result",
          "data": {
            "text/plain": [
              "['4.60', '1.38', '0.00', '0.00', '5.98']"
            ]
          },
          "metadata": {},
          "execution_count": 242
        }
      ]
    },
    {
      "cell_type": "markdown",
      "metadata": {
        "id": "wiYv_bYx__hh"
      },
      "source": [
        "**Comment:** \n",
        " \n",
        "\n",
        "*   The 2nd document does not have individual VAT amount for the line items\n",
        "*   The first document has 2 column titles with the word 'VAT' in them, hence additional values closer to both columns are captured. This can be reduced further by fine-tuning the table extraction\n",
        "\n",
        "\n",
        "\n"
      ]
    }
  ]
}